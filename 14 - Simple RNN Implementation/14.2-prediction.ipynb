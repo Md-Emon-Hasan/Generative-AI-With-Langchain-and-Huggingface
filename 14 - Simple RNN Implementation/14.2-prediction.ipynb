{
 "cells": [
  {
   "cell_type": "code",
   "execution_count": 8,
   "metadata": {},
   "outputs": [],
   "source": [
    "# Step 1: Import Libraries and Load the Model\n",
    "import numpy as np\n",
    "import tensorflow as tf\n",
    "from tensorflow.keras.datasets import imdb\n",
    "from tensorflow.keras.preprocessing import sequence\n",
    "from tensorflow.keras.models import load_model"
   ]
  },
  {
   "cell_type": "code",
   "execution_count": 9,
   "metadata": {},
   "outputs": [],
   "source": [
    "# Load the IMDB dataset word index\n",
    "word_index = imdb.get_word_index()\n",
    "reverse_word_index = {value: key for key, value in word_index.items()}"
   ]
  },
  {
   "cell_type": "code",
   "execution_count": 10,
   "metadata": {},
   "outputs": [
    {
     "name": "stderr",
     "output_type": "stream",
     "text": [
      "WARNING:absl:Compiled the loaded model, but the compiled metrics have yet to be built. `model.compile_metrics` will be empty until you train or evaluate the model.\n"
     ]
    },
    {
     "data": {
      "text/html": [
       "<pre style=\"white-space:pre;overflow-x:auto;line-height:normal;font-family:Menlo,'DejaVu Sans Mono',consolas,'Courier New',monospace\"><span style=\"font-weight: bold\">Model: \"sequential\"</span>\n",
       "</pre>\n"
      ],
      "text/plain": [
       "\u001b[1mModel: \"sequential\"\u001b[0m\n"
      ]
     },
     "metadata": {},
     "output_type": "display_data"
    },
    {
     "data": {
      "text/html": [
       "<pre style=\"white-space:pre;overflow-x:auto;line-height:normal;font-family:Menlo,'DejaVu Sans Mono',consolas,'Courier New',monospace\">┏━━━━━━━━━━━━━━━━━━━━━━━━━━━━━━━━━┳━━━━━━━━━━━━━━━━━━━━━━━━┳━━━━━━━━━━━━━━━┓\n",
       "┃<span style=\"font-weight: bold\"> Layer (type)                    </span>┃<span style=\"font-weight: bold\"> Output Shape           </span>┃<span style=\"font-weight: bold\">       Param # </span>┃\n",
       "┡━━━━━━━━━━━━━━━━━━━━━━━━━━━━━━━━━╇━━━━━━━━━━━━━━━━━━━━━━━━╇━━━━━━━━━━━━━━━┩\n",
       "│ embedding (<span style=\"color: #0087ff; text-decoration-color: #0087ff\">Embedding</span>)           │ (<span style=\"color: #00af00; text-decoration-color: #00af00\">32</span>, <span style=\"color: #00af00; text-decoration-color: #00af00\">500</span>, <span style=\"color: #00af00; text-decoration-color: #00af00\">128</span>)         │     <span style=\"color: #00af00; text-decoration-color: #00af00\">1,280,000</span> │\n",
       "├─────────────────────────────────┼────────────────────────┼───────────────┤\n",
       "│ simple_rnn (<span style=\"color: #0087ff; text-decoration-color: #0087ff\">SimpleRNN</span>)          │ (<span style=\"color: #00af00; text-decoration-color: #00af00\">32</span>, <span style=\"color: #00af00; text-decoration-color: #00af00\">128</span>)              │        <span style=\"color: #00af00; text-decoration-color: #00af00\">32,896</span> │\n",
       "├─────────────────────────────────┼────────────────────────┼───────────────┤\n",
       "│ dense (<span style=\"color: #0087ff; text-decoration-color: #0087ff\">Dense</span>)                   │ (<span style=\"color: #00af00; text-decoration-color: #00af00\">32</span>, <span style=\"color: #00af00; text-decoration-color: #00af00\">1</span>)                │           <span style=\"color: #00af00; text-decoration-color: #00af00\">129</span> │\n",
       "└─────────────────────────────────┴────────────────────────┴───────────────┘\n",
       "</pre>\n"
      ],
      "text/plain": [
       "┏━━━━━━━━━━━━━━━━━━━━━━━━━━━━━━━━━┳━━━━━━━━━━━━━━━━━━━━━━━━┳━━━━━━━━━━━━━━━┓\n",
       "┃\u001b[1m \u001b[0m\u001b[1mLayer (type)                   \u001b[0m\u001b[1m \u001b[0m┃\u001b[1m \u001b[0m\u001b[1mOutput Shape          \u001b[0m\u001b[1m \u001b[0m┃\u001b[1m \u001b[0m\u001b[1m      Param #\u001b[0m\u001b[1m \u001b[0m┃\n",
       "┡━━━━━━━━━━━━━━━━━━━━━━━━━━━━━━━━━╇━━━━━━━━━━━━━━━━━━━━━━━━╇━━━━━━━━━━━━━━━┩\n",
       "│ embedding (\u001b[38;5;33mEmbedding\u001b[0m)           │ (\u001b[38;5;34m32\u001b[0m, \u001b[38;5;34m500\u001b[0m, \u001b[38;5;34m128\u001b[0m)         │     \u001b[38;5;34m1,280,000\u001b[0m │\n",
       "├─────────────────────────────────┼────────────────────────┼───────────────┤\n",
       "│ simple_rnn (\u001b[38;5;33mSimpleRNN\u001b[0m)          │ (\u001b[38;5;34m32\u001b[0m, \u001b[38;5;34m128\u001b[0m)              │        \u001b[38;5;34m32,896\u001b[0m │\n",
       "├─────────────────────────────────┼────────────────────────┼───────────────┤\n",
       "│ dense (\u001b[38;5;33mDense\u001b[0m)                   │ (\u001b[38;5;34m32\u001b[0m, \u001b[38;5;34m1\u001b[0m)                │           \u001b[38;5;34m129\u001b[0m │\n",
       "└─────────────────────────────────┴────────────────────────┴───────────────┘\n"
      ]
     },
     "metadata": {},
     "output_type": "display_data"
    },
    {
     "data": {
      "text/html": [
       "<pre style=\"white-space:pre;overflow-x:auto;line-height:normal;font-family:Menlo,'DejaVu Sans Mono',consolas,'Courier New',monospace\"><span style=\"font-weight: bold\"> Total params: </span><span style=\"color: #00af00; text-decoration-color: #00af00\">1,313,027</span> (5.01 MB)\n",
       "</pre>\n"
      ],
      "text/plain": [
       "\u001b[1m Total params: \u001b[0m\u001b[38;5;34m1,313,027\u001b[0m (5.01 MB)\n"
      ]
     },
     "metadata": {},
     "output_type": "display_data"
    },
    {
     "data": {
      "text/html": [
       "<pre style=\"white-space:pre;overflow-x:auto;line-height:normal;font-family:Menlo,'DejaVu Sans Mono',consolas,'Courier New',monospace\"><span style=\"font-weight: bold\"> Trainable params: </span><span style=\"color: #00af00; text-decoration-color: #00af00\">1,313,025</span> (5.01 MB)\n",
       "</pre>\n"
      ],
      "text/plain": [
       "\u001b[1m Trainable params: \u001b[0m\u001b[38;5;34m1,313,025\u001b[0m (5.01 MB)\n"
      ]
     },
     "metadata": {},
     "output_type": "display_data"
    },
    {
     "data": {
      "text/html": [
       "<pre style=\"white-space:pre;overflow-x:auto;line-height:normal;font-family:Menlo,'DejaVu Sans Mono',consolas,'Courier New',monospace\"><span style=\"font-weight: bold\"> Non-trainable params: </span><span style=\"color: #00af00; text-decoration-color: #00af00\">0</span> (0.00 B)\n",
       "</pre>\n"
      ],
      "text/plain": [
       "\u001b[1m Non-trainable params: \u001b[0m\u001b[38;5;34m0\u001b[0m (0.00 B)\n"
      ]
     },
     "metadata": {},
     "output_type": "display_data"
    },
    {
     "data": {
      "text/html": [
       "<pre style=\"white-space:pre;overflow-x:auto;line-height:normal;font-family:Menlo,'DejaVu Sans Mono',consolas,'Courier New',monospace\"><span style=\"font-weight: bold\"> Optimizer params: </span><span style=\"color: #00af00; text-decoration-color: #00af00\">2</span> (12.00 B)\n",
       "</pre>\n"
      ],
      "text/plain": [
       "\u001b[1m Optimizer params: \u001b[0m\u001b[38;5;34m2\u001b[0m (12.00 B)\n"
      ]
     },
     "metadata": {},
     "output_type": "display_data"
    }
   ],
   "source": [
    "# Load the pre-trained model with ReLU activation\n",
    "model = load_model('simple_rnn_imdb.h5')\n",
    "model.summary()"
   ]
  },
  {
   "cell_type": "code",
   "execution_count": 11,
   "metadata": {},
   "outputs": [
    {
     "data": {
      "text/plain": [
       "[array([[ 0.5213045 ,  0.05711074, -0.8373028 , ..., -0.04320212,\n",
       "          0.62173843, -0.22656031],\n",
       "        [ 0.04029862,  0.0024258 , -0.02080611, ...,  0.02018363,\n",
       "          0.03485309,  0.10956404],\n",
       "        [ 0.01551803,  0.08769181,  0.08700561, ...,  0.03307518,\n",
       "         -0.04284359,  0.15505642],\n",
       "        ...,\n",
       "        [ 0.08505764,  0.02766908, -0.08312299, ..., -0.00270561,\n",
       "          0.05158191, -0.09162395],\n",
       "        [-0.10013541, -0.10301462,  0.04231489, ...,  0.03324687,\n",
       "         -0.12816885, -0.07682862],\n",
       "        [-0.01134707, -0.01223359, -0.0506522 , ..., -0.03684918,\n",
       "          0.07224163, -0.05185238]], dtype=float32),\n",
       " array([[ 0.14545219,  0.03480795, -0.00971346, ..., -0.1463298 ,\n",
       "         -0.04728815,  0.00359974],\n",
       "        [-0.0004997 ,  0.06892587, -0.01798353, ...,  0.08932582,\n",
       "         -0.03034031,  0.00505312],\n",
       "        [-0.10030582, -0.07599738,  0.16980654, ...,  0.09008978,\n",
       "         -0.04962932, -0.20019239],\n",
       "        ...,\n",
       "        [-0.1384538 ,  0.01917282,  0.07731581, ...,  0.12108473,\n",
       "         -0.07513899,  0.15894866],\n",
       "        [ 0.04908112,  0.03199525, -0.07199442, ..., -0.04050688,\n",
       "         -0.15447626, -0.11363395],\n",
       "        [ 0.01025854, -0.10014242, -0.13271458, ..., -0.07508054,\n",
       "         -0.11508246, -0.09956668]], dtype=float32),\n",
       " array([[ 5.91061637e-02, -1.79596588e-01,  5.91590442e-02, ...,\n",
       "         -2.85271294e-02,  5.60029596e-02, -6.11766577e-02],\n",
       "        [-1.42105436e-02, -3.51391062e-02,  1.48036212e-01, ...,\n",
       "         -1.05769388e-01,  2.01663561e-03,  1.12114362e-01],\n",
       "        [ 7.14524835e-02,  3.82393077e-02,  1.51339695e-01, ...,\n",
       "          2.50857603e-02,  6.67732581e-02,  1.84066594e-01],\n",
       "        ...,\n",
       "        [ 1.09557599e-01,  6.54952005e-02, -2.91549135e-02, ...,\n",
       "          1.00071065e-01, -4.75131683e-02,  4.46749963e-02],\n",
       "        [ 2.58835935e-04,  8.79167113e-03,  6.19812235e-02, ...,\n",
       "          2.68413424e-01,  3.02151833e-02,  1.67029843e-01],\n",
       "        [-1.55297518e-02,  5.84136508e-02,  1.00694694e-01, ...,\n",
       "          3.25426795e-02, -4.36474420e-02,  1.24273738e-02]], dtype=float32),\n",
       " array([ 2.1265749e-02, -3.7167832e-02, -9.2753656e-03, -7.1673132e-03,\n",
       "        -4.6344921e-02, -2.7727380e-03,  7.3383683e-03, -4.1687489e-02,\n",
       "         3.8787164e-02, -1.3999662e-02,  1.2431179e-02, -3.1493008e-02,\n",
       "        -8.6915670e-03, -5.9759426e-03,  2.0568075e-02,  2.9977702e-03,\n",
       "         2.7331486e-03,  1.5342971e-02,  3.2805572e-03, -5.0307330e-02,\n",
       "         4.3749619e-02, -3.6073025e-02,  3.5434932e-02, -1.7708931e-02,\n",
       "        -7.3738642e-02, -3.9955460e-02, -2.6734049e-02,  2.7354730e-02,\n",
       "        -3.2168720e-02, -2.5710123e-02, -1.6626412e-02,  2.4282215e-02,\n",
       "        -4.3770026e-02,  3.3097729e-02, -4.7775127e-02, -3.0312348e-02,\n",
       "        -5.9474451e-03, -4.6214711e-02, -4.2088103e-02,  1.5597234e-02,\n",
       "         3.5395853e-02, -5.0017580e-02,  3.5348378e-02, -1.8619742e-02,\n",
       "         1.8511014e-02, -2.8289227e-02, -3.8933162e-02,  7.9100644e-03,\n",
       "         4.3202065e-02, -2.8990512e-03,  3.0560882e-03, -1.2952676e-02,\n",
       "        -2.1934344e-02, -2.1184508e-02, -2.1045130e-02, -5.0734922e-02,\n",
       "         7.2769378e-03,  8.7790685e-03,  2.3500977e-02,  1.7707225e-02,\n",
       "        -5.9567848e-03,  7.5346696e-05,  2.9523745e-02, -4.0215440e-02,\n",
       "         3.0795621e-02, -7.4717298e-02,  1.1817124e-02, -3.6384609e-02,\n",
       "         1.1206846e-02,  1.8956941e-02, -3.6247890e-02, -3.1822212e-02,\n",
       "        -4.3266550e-02, -3.6069874e-02, -3.8867917e-02, -4.4350632e-02,\n",
       "        -2.9915055e-02,  1.8782774e-03,  4.1491343e-03,  5.3934986e-03,\n",
       "        -2.0902852e-02,  1.7729796e-02,  2.8998015e-02, -2.7844092e-02,\n",
       "        -1.8958295e-03,  3.5438672e-02, -3.4046125e-02,  1.1860767e-02,\n",
       "         6.3392825e-02, -6.0782347e-02, -1.5106418e-02, -2.4134537e-02,\n",
       "         1.9595441e-03,  1.2106219e-02, -2.8579580e-02, -3.2687340e-02,\n",
       "        -4.2922724e-02,  1.1600474e-02,  5.2434020e-03, -2.2745740e-02,\n",
       "         3.5987809e-02, -2.0069992e-02, -1.5713105e-02, -3.3926904e-02,\n",
       "         6.5503274e-03,  2.3519225e-02, -4.2688154e-02,  5.0246376e-03,\n",
       "        -1.1427419e-02,  3.8788561e-02,  3.0825771e-02, -3.2427140e-02,\n",
       "         2.7716449e-02,  1.2924392e-02, -1.9107241e-02, -2.3848573e-02,\n",
       "        -5.7275426e-02, -4.9011875e-02, -3.6899470e-02,  1.4817627e-02,\n",
       "        -2.9324915e-02,  6.2480434e-03, -2.7695220e-02, -4.0301245e-02,\n",
       "         3.6104430e-02, -3.3685155e-02, -2.3892656e-02,  1.8229824e-02],\n",
       "       dtype=float32),\n",
       " array([[ 1.37216091e-01],\n",
       "        [ 5.13437912e-02],\n",
       "        [-2.58712530e-01],\n",
       "        [ 8.65416825e-02],\n",
       "        [ 2.70100385e-01],\n",
       "        [-8.02811310e-02],\n",
       "        [-1.95365414e-01],\n",
       "        [-2.74347863e-03],\n",
       "        [-7.30626956e-02],\n",
       "        [ 1.36526883e-01],\n",
       "        [-1.44830048e-01],\n",
       "        [-2.02081069e-01],\n",
       "        [-1.43174365e-01],\n",
       "        [-1.21961823e-02],\n",
       "        [-1.15919724e-01],\n",
       "        [ 1.22794308e-01],\n",
       "        [ 1.60848051e-01],\n",
       "        [-2.09413812e-01],\n",
       "        [-8.26500282e-02],\n",
       "        [-1.17250651e-01],\n",
       "        [ 2.41254747e-01],\n",
       "        [-7.75729194e-02],\n",
       "        [ 1.37587398e-01],\n",
       "        [-9.26527567e-03],\n",
       "        [ 1.34257898e-01],\n",
       "        [ 1.40800223e-01],\n",
       "        [-1.58297360e-01],\n",
       "        [ 9.21721533e-02],\n",
       "        [ 2.33290866e-01],\n",
       "        [ 3.38185951e-02],\n",
       "        [-1.08021641e+00],\n",
       "        [ 6.83470592e-02],\n",
       "        [-5.91020733e-02],\n",
       "        [-6.85030594e-02],\n",
       "        [-2.12414980e-01],\n",
       "        [-3.23580764e-02],\n",
       "        [-3.72286998e-02],\n",
       "        [ 1.48762196e-01],\n",
       "        [-1.48739129e-01],\n",
       "        [ 8.65489915e-02],\n",
       "        [ 1.53578063e-02],\n",
       "        [ 9.84881818e-02],\n",
       "        [ 1.72975868e-01],\n",
       "        [-1.78886190e-01],\n",
       "        [-2.13846713e-01],\n",
       "        [-1.22194529e-01],\n",
       "        [ 2.35039815e-01],\n",
       "        [ 2.00771987e-02],\n",
       "        [-4.11376864e-01],\n",
       "        [-1.34940356e-01],\n",
       "        [-1.45489678e-01],\n",
       "        [ 1.27860874e-01],\n",
       "        [-1.77828357e-01],\n",
       "        [ 6.53505027e-02],\n",
       "        [ 2.12722778e-01],\n",
       "        [-1.07013665e-01],\n",
       "        [-2.17180565e-01],\n",
       "        [ 1.74271874e-02],\n",
       "        [ 1.75442547e-01],\n",
       "        [ 2.03925848e-01],\n",
       "        [ 1.09039128e-01],\n",
       "        [-1.47173852e-01],\n",
       "        [ 1.17046973e-02],\n",
       "        [ 1.60551935e-01],\n",
       "        [ 9.78558436e-02],\n",
       "        [-2.71194637e-01],\n",
       "        [ 2.07166374e-01],\n",
       "        [ 2.60344595e-01],\n",
       "        [-1.48941278e-01],\n",
       "        [-1.05789810e-01],\n",
       "        [ 1.55546069e-01],\n",
       "        [-3.03785130e-03],\n",
       "        [ 1.27122015e-01],\n",
       "        [-5.92973977e-02],\n",
       "        [ 3.36800627e-02],\n",
       "        [ 5.86468160e-01],\n",
       "        [-1.78663552e-01],\n",
       "        [ 1.95855841e-01],\n",
       "        [ 3.48462636e-04],\n",
       "        [-6.26584068e-02],\n",
       "        [-8.98364410e-02],\n",
       "        [-2.15906784e-01],\n",
       "        [ 1.99894324e-01],\n",
       "        [ 2.87169553e-02],\n",
       "        [ 1.32702798e-01],\n",
       "        [ 1.56950995e-01],\n",
       "        [-1.01619206e-01],\n",
       "        [ 2.35634521e-01],\n",
       "        [-1.95945740e-01],\n",
       "        [-1.46868795e-01],\n",
       "        [-5.34613609e-01],\n",
       "        [-3.18612233e-02],\n",
       "        [-3.85272764e-02],\n",
       "        [-1.04785457e-01],\n",
       "        [-1.97619155e-01],\n",
       "        [-1.46631654e-02],\n",
       "        [-8.80401134e-02],\n",
       "        [-7.87084699e-02],\n",
       "        [-1.98134989e-01],\n",
       "        [ 2.24033475e-01],\n",
       "        [-1.96187928e-01],\n",
       "        [-1.63280383e-01],\n",
       "        [ 8.44791010e-02],\n",
       "        [-1.93355501e-01],\n",
       "        [-1.24702945e-01],\n",
       "        [ 2.16826171e-01],\n",
       "        [ 2.46537551e-01],\n",
       "        [ 5.51857725e-02],\n",
       "        [-1.83329284e-02],\n",
       "        [ 1.67479292e-01],\n",
       "        [-9.54244658e-02],\n",
       "        [-1.03063025e-01],\n",
       "        [ 2.50027478e-01],\n",
       "        [ 9.63983163e-02],\n",
       "        [ 7.76612759e-01],\n",
       "        [-2.95911282e-02],\n",
       "        [ 1.82124883e-01],\n",
       "        [ 1.91361904e-01],\n",
       "        [ 2.07052261e-01],\n",
       "        [-1.89129040e-01],\n",
       "        [ 9.59728435e-02],\n",
       "        [-1.79614156e-01],\n",
       "        [-2.38111854e-01],\n",
       "        [ 1.93824098e-01],\n",
       "        [-1.80673122e-01],\n",
       "        [ 1.72682792e-01],\n",
       "        [ 2.26156801e-01],\n",
       "        [-1.08500160e-01]], dtype=float32),\n",
       " array([0.27994412], dtype=float32)]"
      ]
     },
     "execution_count": 11,
     "metadata": {},
     "output_type": "execute_result"
    }
   ],
   "source": [
    "model.get_weights()"
   ]
  },
  {
   "cell_type": "code",
   "execution_count": 12,
   "metadata": {},
   "outputs": [],
   "source": [
    "# Step 2: Helper Functions\n",
    "# Function to decode reviews\n",
    "def decode_review(encoded_review):\n",
    "    return ' '.join([reverse_word_index.get(i - 3, '?') for i in encoded_review])\n",
    "\n",
    "# Function to preprocess user input\n",
    "def preprocess_text(text):\n",
    "    words = text.lower().split()\n",
    "    encoded_review = [word_index.get(word, 2) + 3 for word in words]\n",
    "    padded_review = sequence.pad_sequences([encoded_review], maxlen=500)\n",
    "    return padded_review"
   ]
  },
  {
   "cell_type": "code",
   "execution_count": 13,
   "metadata": {},
   "outputs": [],
   "source": [
    "### Prediction  function\n",
    "def predict_sentiment(review):\n",
    "    preprocessed_input=preprocess_text(review)\n",
    "    prediction=model.predict(preprocessed_input)\n",
    "    sentiment = 'Positive' if prediction[0][0] > 0.5 else 'Negative'\n",
    "    \n",
    "    return sentiment, prediction[0][0]"
   ]
  },
  {
   "cell_type": "code",
   "execution_count": 14,
   "metadata": {},
   "outputs": [
    {
     "name": "stdout",
     "output_type": "stream",
     "text": [
      "\u001b[1m1/1\u001b[0m \u001b[32m━━━━━━━━━━━━━━━━━━━━\u001b[0m\u001b[37m\u001b[0m \u001b[1m0s\u001b[0m 254ms/step\n",
      "Review: This movie was fantastic! The acting was great and the plot was thrilling.\n",
      "Sentiment: Negative\n",
      "Prediction Score: 0.00021425900922622532\n"
     ]
    }
   ],
   "source": [
    "# Step 4: User Input and Prediction\n",
    "# Example review for prediction\n",
    "example_review = \"This movie was fantastic! The acting was great and the plot was thrilling.\"\n",
    "\n",
    "sentiment,score=predict_sentiment(example_review)\n",
    "\n",
    "print(f'Review: {example_review}')\n",
    "print(f'Sentiment: {sentiment}')\n",
    "print(f'Prediction Score: {score}')"
   ]
  }
 ],
 "metadata": {
  "kernelspec": {
   "display_name": "Python 3",
   "language": "python",
   "name": "python3"
  },
  "language_info": {
   "codemirror_mode": {
    "name": "ipython",
    "version": 3
   },
   "file_extension": ".py",
   "mimetype": "text/x-python",
   "name": "python",
   "nbconvert_exporter": "python",
   "pygments_lexer": "ipython3",
   "version": "3.11.9"
  }
 },
 "nbformat": 4,
 "nbformat_minor": 2
}
